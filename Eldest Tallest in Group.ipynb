{
 "cells": [
  {
   "cell_type": "code",
   "execution_count": 21,
   "id": "535b104c",
   "metadata": {},
   "outputs": [],
   "source": [
    "import pandas as pd\n",
    "import sqlite3"
   ]
  },
  {
   "cell_type": "code",
   "execution_count": 22,
   "id": "fba85d49",
   "metadata": {},
   "outputs": [],
   "source": [
    "group1_df = pd.read_csv(\"./Group_1.csv\")"
   ]
  },
  {
   "cell_type": "code",
   "execution_count": 23,
   "id": "d59c47de",
   "metadata": {},
   "outputs": [],
   "source": [
    "group2_df = pd.read_csv(\"./Group_2.csv\")"
   ]
  },
  {
   "cell_type": "code",
   "execution_count": 24,
   "id": "d498984f",
   "metadata": {},
   "outputs": [],
   "source": [
    "# create connection to in memory sqlite db\n",
    "conn = sqlite3.connect(\":memory:\")\n",
    "\n",
    "# save data-frame to table \n",
    "group1_df.to_sql(name=\"group_1_txt\", con=conn, index=False)\n",
    "group2_df.to_sql(name=\"group_2_txt\", con=conn, index=False)"
   ]
  },
  {
   "cell_type": "code",
   "execution_count": 25,
   "id": "c1654741",
   "metadata": {},
   "outputs": [],
   "source": [
    "query1 = \"\"\"\n",
    "\n",
    "with Group1_Enrich as (\n",
    "select \n",
    "  PersonID, \n",
    "  CAST(Height_CM as decimal) as Height,\n",
    "  DATE(DOB) as BirthDate\n",
    "from group_1_txt\n",
    "),\n",
    "\n",
    "Group2_Enrich as (\n",
    "select \n",
    "  PersonID, \n",
    "  CAST(Height_CM as decimal) as Height, \n",
    "  DATE(DOB) as BirthDate\n",
    "from group_2_txt\n",
    "),\n",
    "\n",
    "Group1_Min_BirthDate as (\n",
    "select \n",
    "    min(BirthDate) as Birth_Date,\n",
    "    'Group1' as GroupName,\n",
    "    PersonID,\n",
    "    Height,\n",
    "    'Eldest' as Remarks\n",
    "from Group1_Enrich\n",
    "),\n",
    "\n",
    "Group1_Max_Height as (\n",
    "select \n",
    "  BirthDate as Birth_Date,\n",
    "  'Group1' as GroupName,\n",
    "   PersonID,\n",
    "  max(Height) as Height,\n",
    "  'Tallest' as Remarks\n",
    "from Group1_Enrich\n",
    "),\n",
    "\n",
    "Group2_Min_BirthDate as (\n",
    "select \n",
    "   min(BirthDate) as Birth_Date,\n",
    "   'Group2' as GroupName,\n",
    "   PersonID,\n",
    "   Height,\n",
    "   'Eldest' as Remarks\n",
    " from Group2_Enrich\n",
    "),\n",
    "\n",
    "Group2_Max_Height as (\n",
    "select \n",
    "  BirthDate as Birth_Date,\n",
    "  'Group2' as GroupName,\n",
    "  PersonID,\n",
    "  max(Height) as Height,\n",
    "  'Tallest' as Remarks\n",
    "  from Group2_Enrich\n",
    ")\n",
    "\n",
    "---- Return the final result \n",
    "select \n",
    "*\n",
    "from \n",
    " Group1_Min_BirthDate\n",
    "union all\n",
    "select \n",
    "*\n",
    "from \n",
    "  Group1_Max_Height\n",
    "union all\n",
    "select \n",
    "*\n",
    "from \n",
    "  Group2_Min_BirthDate\n",
    "union all\n",
    "select \n",
    "*\n",
    "from   \n",
    "  Group2_Max_Height\n",
    "  \n",
    "  \n",
    "\"\"\""
   ]
  },
  {
   "cell_type": "code",
   "execution_count": 26,
   "id": "0e81a62f",
   "metadata": {},
   "outputs": [],
   "source": [
    "# use pandas read_sql to execute the query and return a dataframe\n",
    "result1_df = pd.read_sql(query1, con=conn)"
   ]
  },
  {
   "cell_type": "code",
   "execution_count": 27,
   "id": "3fcf1379",
   "metadata": {},
   "outputs": [
    {
     "data": {
      "text/html": [
       "<div>\n",
       "<style scoped>\n",
       "    .dataframe tbody tr th:only-of-type {\n",
       "        vertical-align: middle;\n",
       "    }\n",
       "\n",
       "    .dataframe tbody tr th {\n",
       "        vertical-align: top;\n",
       "    }\n",
       "\n",
       "    .dataframe thead th {\n",
       "        text-align: right;\n",
       "    }\n",
       "</style>\n",
       "<table border=\"1\" class=\"dataframe\">\n",
       "  <thead>\n",
       "    <tr style=\"text-align: right;\">\n",
       "      <th></th>\n",
       "      <th>Birth_Date</th>\n",
       "      <th>GroupName</th>\n",
       "      <th>PersonID</th>\n",
       "      <th>Height</th>\n",
       "      <th>Remarks</th>\n",
       "    </tr>\n",
       "  </thead>\n",
       "  <tbody>\n",
       "    <tr>\n",
       "      <th>0</th>\n",
       "      <td>1976-10-11</td>\n",
       "      <td>Group1</td>\n",
       "      <td>21821</td>\n",
       "      <td>175</td>\n",
       "      <td>Eldest</td>\n",
       "    </tr>\n",
       "    <tr>\n",
       "      <th>1</th>\n",
       "      <td>1976-10-11</td>\n",
       "      <td>Group1</td>\n",
       "      <td>21821</td>\n",
       "      <td>175</td>\n",
       "      <td>Tallest</td>\n",
       "    </tr>\n",
       "    <tr>\n",
       "      <th>2</th>\n",
       "      <td>1993-10-11</td>\n",
       "      <td>Group2</td>\n",
       "      <td>21824</td>\n",
       "      <td>175</td>\n",
       "      <td>Eldest</td>\n",
       "    </tr>\n",
       "    <tr>\n",
       "      <th>3</th>\n",
       "      <td>1993-10-11</td>\n",
       "      <td>Group2</td>\n",
       "      <td>21824</td>\n",
       "      <td>175</td>\n",
       "      <td>Tallest</td>\n",
       "    </tr>\n",
       "  </tbody>\n",
       "</table>\n",
       "</div>"
      ],
      "text/plain": [
       "   Birth_Date GroupName  PersonID  Height  Remarks\n",
       "0  1976-10-11    Group1     21821     175   Eldest\n",
       "1  1976-10-11    Group1     21821     175  Tallest\n",
       "2  1993-10-11    Group2     21824     175   Eldest\n",
       "3  1993-10-11    Group2     21824     175  Tallest"
      ]
     },
     "execution_count": 27,
     "metadata": {},
     "output_type": "execute_result"
    }
   ],
   "source": [
    "result1_df"
   ]
  },
  {
   "cell_type": "code",
   "execution_count": null,
   "id": "b2d29082",
   "metadata": {},
   "outputs": [],
   "source": []
  },
  {
   "cell_type": "code",
   "execution_count": null,
   "id": "82de46b6",
   "metadata": {},
   "outputs": [],
   "source": []
  }
 ],
 "metadata": {
  "kernelspec": {
   "display_name": "Python 3 (ipykernel)",
   "language": "python",
   "name": "python3"
  },
  "language_info": {
   "codemirror_mode": {
    "name": "ipython",
    "version": 3
   },
   "file_extension": ".py",
   "mimetype": "text/x-python",
   "name": "python",
   "nbconvert_exporter": "python",
   "pygments_lexer": "ipython3",
   "version": "3.9.7"
  }
 },
 "nbformat": 4,
 "nbformat_minor": 5
}
