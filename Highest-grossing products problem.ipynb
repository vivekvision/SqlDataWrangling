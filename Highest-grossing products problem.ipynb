{
 "cells": [
  {
   "cell_type": "markdown",
   "id": "f0c1f842",
   "metadata": {},
   "source": [
    "table containing information on consumers and their expenditure on various kinds of products.\n",
    "\n",
    "identify the top two highest-grossing products in each category and output the category, product, and total spend information."
   ]
  },
  {
   "cell_type": "code",
   "execution_count": 47,
   "id": "aedfe916",
   "metadata": {},
   "outputs": [],
   "source": [
    "import pandas as pd\n",
    "\n",
    "# create data-frame\n",
    "\n",
    "product_spend_df = pd.DataFrame({'category': ['appliance','appliance','appliance','electronics','electronics','electronics'],\n",
    "                    'product': ['refrigerator','refrigerator','washing machine','vacuum', 'wireless headset', 'vacuum'],\n",
    "                   'user_id' : [165,123,123,178,156,145],\n",
    "                    'spend' : [246,299.99,219.8,152,249.9,189],\n",
    "                    'transaction_date' : ['12/26/2022','3/2/2022','3/2/2022','4/5/2022','7/8/2022', '7/15/2022']\n",
    "                  })"
   ]
  },
  {
   "cell_type": "code",
   "execution_count": 48,
   "id": "35f9cf40",
   "metadata": {},
   "outputs": [],
   "source": [
    "import sqlite3\n",
    "\n",
    "# create connection to in memory sqlite db\n",
    "conn = sqlite3.connect(\":memory:\")\n",
    "\n",
    "# save prices dataframe to sqlite db\n",
    "product_spend_df.to_sql(name=\"product_spend\", con=conn, index=False)"
   ]
  },
  {
   "cell_type": "markdown",
   "id": "86246b8d",
   "metadata": {},
   "source": [
    "Build a named sub query result set of data that will contain information about the total amount spent on each product in each category \n",
    "\n",
    "rank the products in each category in descending order based on the total amount spent by consumers to acquire them. \n",
    "the product with the highest spend should come first, followed by the others in each category.\n",
    "\n",
    "apply the Rank() Window Function across each category of products and rank the products in descending order of \n",
    "total amount spent.\n",
    "\n",
    "At the end  filter for a rank less than or equal to 2 to get two highest-grossing products"
   ]
  },
  {
   "cell_type": "code",
   "execution_count": 49,
   "id": "f57ceb31",
   "metadata": {},
   "outputs": [],
   "source": [
    "query = \"\"\"\n",
    "  \n",
    "with category_wise_spend_analysis AS ( \n",
    "    SELECT category,\n",
    "           product,\n",
    "           sum(spend) AS total_spend\n",
    "    FROM product_spend\n",
    "    GROUP BY\n",
    "     category, product\n",
    "   ),\n",
    "   category_wise_top_spend AS (\n",
    "   SELECT *, \n",
    "   RANK() OVER (PARTITION BY category ORDER BY category, total_spend DESC) AS ranking\n",
    "   FROM category_wise_spend_analysis\n",
    "   )\n",
    "    \n",
    "select *\n",
    "from category_wise_top_spend\n",
    "WHERE \n",
    "  ranking <=2\n",
    "ORDER BY \n",
    "  category, ranking\n",
    "    \n",
    "\"\"\"\n"
   ]
  },
  {
   "cell_type": "code",
   "execution_count": 50,
   "id": "d4b30773",
   "metadata": {},
   "outputs": [],
   "source": [
    "# use pandas read_sql to execute the query and return a dataframe\n",
    "result_df = pd.read_sql(query, con=conn)"
   ]
  },
  {
   "cell_type": "code",
   "execution_count": 51,
   "id": "fe5116d8",
   "metadata": {},
   "outputs": [
    {
     "data": {
      "text/html": [
       "<div>\n",
       "<style scoped>\n",
       "    .dataframe tbody tr th:only-of-type {\n",
       "        vertical-align: middle;\n",
       "    }\n",
       "\n",
       "    .dataframe tbody tr th {\n",
       "        vertical-align: top;\n",
       "    }\n",
       "\n",
       "    .dataframe thead th {\n",
       "        text-align: right;\n",
       "    }\n",
       "</style>\n",
       "<table border=\"1\" class=\"dataframe\">\n",
       "  <thead>\n",
       "    <tr style=\"text-align: right;\">\n",
       "      <th></th>\n",
       "      <th>category</th>\n",
       "      <th>product</th>\n",
       "      <th>total_spend</th>\n",
       "      <th>ranking</th>\n",
       "    </tr>\n",
       "  </thead>\n",
       "  <tbody>\n",
       "    <tr>\n",
       "      <th>0</th>\n",
       "      <td>appliance</td>\n",
       "      <td>refrigerator</td>\n",
       "      <td>545.99</td>\n",
       "      <td>1</td>\n",
       "    </tr>\n",
       "    <tr>\n",
       "      <th>1</th>\n",
       "      <td>appliance</td>\n",
       "      <td>washing machine</td>\n",
       "      <td>219.80</td>\n",
       "      <td>2</td>\n",
       "    </tr>\n",
       "    <tr>\n",
       "      <th>2</th>\n",
       "      <td>electronics</td>\n",
       "      <td>vacuum</td>\n",
       "      <td>341.00</td>\n",
       "      <td>1</td>\n",
       "    </tr>\n",
       "    <tr>\n",
       "      <th>3</th>\n",
       "      <td>electronics</td>\n",
       "      <td>wireless headset</td>\n",
       "      <td>249.90</td>\n",
       "      <td>2</td>\n",
       "    </tr>\n",
       "  </tbody>\n",
       "</table>\n",
       "</div>"
      ],
      "text/plain": [
       "      category           product  total_spend  ranking\n",
       "0    appliance      refrigerator       545.99        1\n",
       "1    appliance   washing machine       219.80        2\n",
       "2  electronics            vacuum       341.00        1\n",
       "3  electronics  wireless headset       249.90        2"
      ]
     },
     "execution_count": 51,
     "metadata": {},
     "output_type": "execute_result"
    }
   ],
   "source": [
    "result_df"
   ]
  },
  {
   "cell_type": "code",
   "execution_count": null,
   "id": "96779e70",
   "metadata": {},
   "outputs": [],
   "source": []
  },
  {
   "cell_type": "code",
   "execution_count": null,
   "id": "69d8d0c7",
   "metadata": {},
   "outputs": [],
   "source": []
  }
 ],
 "metadata": {
  "kernelspec": {
   "display_name": "Python 3 (ipykernel)",
   "language": "python",
   "name": "python3"
  },
  "language_info": {
   "codemirror_mode": {
    "name": "ipython",
    "version": 3
   },
   "file_extension": ".py",
   "mimetype": "text/x-python",
   "name": "python",
   "nbconvert_exporter": "python",
   "pygments_lexer": "ipython3",
   "version": "3.9.7"
  }
 },
 "nbformat": 4,
 "nbformat_minor": 5
}
