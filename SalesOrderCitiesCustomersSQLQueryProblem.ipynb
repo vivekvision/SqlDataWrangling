{
 "cells": [
  {
   "cell_type": "code",
   "execution_count": 25,
   "id": "8770c797",
   "metadata": {},
   "outputs": [],
   "source": [
    "import pandas as pd\n",
    "\n",
    "# Sample data for orders\n",
    "orders_data = [\n",
    "    {'city': 'New York', 'customer_id': 1, 'sales': 100000},\n",
    "    {'city': 'Los Angeles', 'customer_id': 2, 'sales': 9000},\n",
    "    {'city': 'Chicago', 'customer_id': 3, 'sales': 8000},\n",
    "    {'city': 'Houston', 'customer_id': 4, 'sales': 7000},\n",
    "    {'city': 'Phoenix', 'customer_id': 5, 'sales': 6000},\n",
    "    {'city': 'Philadelphia', 'customer_id': 1, 'sales': 5000},\n",
    "    {'city': 'San Antonio', 'customer_id': 2, 'sales': 4000},\n",
    "    {'city': 'San Diego', 'customer_id': 3, 'sales': 3000},\n",
    "    {'city': 'Dallas', 'customer_id': 4, 'sales': 2000},\n",
    "    {'city': 'San Jose', 'customer_id': 5, 'sales': 1000},\n",
    "     {'city': 'New York', 'customer_id': 11, 'sales': 10000},\n",
    "    {'city': 'Los Angeles', 'customer_id': 9, 'sales': 9000},\n",
    "    {'city': 'Chicago', 'customer_id': 13, 'sales': 8000},\n",
    "    {'city': 'Houston', 'customer_id': 14, 'sales': 7000},\n",
    "    {'city': 'Phoenix', 'customer_id': 7, 'sales': 6000},\n",
    "    {'city': 'Philadelphia', 'customer_id': 8, 'sales': 5000},\n",
    "    {'city': 'San Antonio', 'customer_id': 3, 'sales': 4000},\n",
    "    {'city': 'San Diego', 'customer_id': 16, 'sales': 3000},\n",
    "    {'city': 'Dallas', 'customer_id': 14, 'sales': 2000},\n",
    "    {'city': 'San Jose', 'customer_id': 55, 'sales': 1000},\n",
    "]\n",
    "\n",
    "# Create a pandas dataframe for orders\n",
    "orders_df = pd.DataFrame(orders_data)"
   ]
  },
  {
   "cell_type": "code",
   "execution_count": 26,
   "id": "44d3caf4",
   "metadata": {},
   "outputs": [],
   "source": [
    "# Sample data for customers\n",
    "customers_data = [\n",
    "    {'customer_id': 1, 'city': 'New York'},\n",
    "    {'customer_id': 2, 'city': 'Los Angeles'},\n",
    "    {'customer_id': 3, 'city': 'Chicago'},\n",
    "    {'customer_id': 4, 'city': 'Houston'},\n",
    "    {'customer_id': 5, 'city': 'Phoenix'},\n",
    "    {'customer_id': 6, 'city': 'Philadelphia'},\n",
    "    {'customer_id': 7, 'city': 'San Antonio'},\n",
    "    {'customer_id': 8, 'city': 'San Diego'},\n",
    "    {'customer_id': 9, 'city': 'Dallas'},\n",
    "    {'customer_id': 10, 'city': 'San Jose'},\n",
    "]\n",
    "\n",
    "# Create a pandas dataframe for customers\n",
    "customers_df = pd.DataFrame(customers_data)"
   ]
  },
  {
   "cell_type": "code",
   "execution_count": 27,
   "id": "b761a4a4",
   "metadata": {},
   "outputs": [],
   "source": [
    "import sqlite3\n",
    "\n",
    "# Connect to in-memory database\n",
    "conn = sqlite3.connect(':memory:')\n",
    "\n",
    "\n",
    "# Create a table in the database\n",
    "orders_df.to_sql(\"orders\", conn, if_exists=\"replace\")\n",
    "customers_df.to_sql(\"customers\", conn, if_exists=\"replace\")"
   ]
  },
  {
   "cell_type": "markdown",
   "id": "17486eac",
   "metadata": {},
   "source": [
    "Following query uses two subqueries, top_cities and top_customers which are defined using the WITH clause. \n",
    "The first subquery top_cities retrieves the top 10 cities with the highest total sales, based on the data in the \"orders\" table. \n",
    "The second subquery top_customers retrieves the top 5 customers with the highest total sales, also based on the data in the \"orders\" table.\n",
    "The outer query then joins the two subqueries top_cities and top_customers on the city column and filters the results based on the total sales \n",
    "of the top cities and customers, and also uses a subquery inside the join clause to match the city of the customer with the cities in the top_cities subquery.\n",
    "\n",
    "\n",
    "Use of named sub or use of the WITH clause can make the query more readable and maintainable.\n",
    "\n"
   ]
  },
  {
   "cell_type": "code",
   "execution_count": 28,
   "id": "45983c6c",
   "metadata": {},
   "outputs": [],
   "source": [
    "query = \"\"\"\n",
    "  \n",
    "WITH top_cities AS (\n",
    "  SELECT city, SUM(sales) AS total_sales\n",
    "  FROM orders\n",
    "  GROUP BY city\n",
    "  ORDER BY total_sales DESC\n",
    "  LIMIT 10\n",
    "),\n",
    "top_customers AS (\n",
    "  SELECT customer_id, SUM(sales) AS total_sales\n",
    "  FROM orders\n",
    "  GROUP BY customer_id\n",
    "  ORDER BY total_sales DESC\n",
    "  LIMIT 5\n",
    ")\n",
    "SELECT top_cities.city, top_customers.customer_id, top_customers.total_sales\n",
    "FROM top_cities\n",
    "JOIN top_customers\n",
    "ON top_cities.city = (SELECT city FROM customers WHERE customers.customer_id = top_customers.customer_id)\n",
    "WHERE top_cities.total_sales > 100000\n",
    "ORDER BY top_cities.city, top_customers.total_sales DESC;\n",
    "\n",
    "    \n",
    "\"\"\"\n"
   ]
  },
  {
   "cell_type": "code",
   "execution_count": 29,
   "id": "7a1814ee",
   "metadata": {},
   "outputs": [],
   "source": [
    "# use pandas read_sql to execute the query and return a dataframe\n",
    "result_df = pd.read_sql(query, con=conn)"
   ]
  },
  {
   "cell_type": "code",
   "execution_count": 30,
   "id": "b8301f46",
   "metadata": {},
   "outputs": [
    {
     "data": {
      "text/html": [
       "<div>\n",
       "<style scoped>\n",
       "    .dataframe tbody tr th:only-of-type {\n",
       "        vertical-align: middle;\n",
       "    }\n",
       "\n",
       "    .dataframe tbody tr th {\n",
       "        vertical-align: top;\n",
       "    }\n",
       "\n",
       "    .dataframe thead th {\n",
       "        text-align: right;\n",
       "    }\n",
       "</style>\n",
       "<table border=\"1\" class=\"dataframe\">\n",
       "  <thead>\n",
       "    <tr style=\"text-align: right;\">\n",
       "      <th></th>\n",
       "      <th>city</th>\n",
       "      <th>customer_id</th>\n",
       "      <th>total_sales</th>\n",
       "    </tr>\n",
       "  </thead>\n",
       "  <tbody>\n",
       "    <tr>\n",
       "      <th>0</th>\n",
       "      <td>New York</td>\n",
       "      <td>1</td>\n",
       "      <td>105000</td>\n",
       "    </tr>\n",
       "  </tbody>\n",
       "</table>\n",
       "</div>"
      ],
      "text/plain": [
       "       city  customer_id  total_sales\n",
       "0  New York            1       105000"
      ]
     },
     "execution_count": 30,
     "metadata": {},
     "output_type": "execute_result"
    }
   ],
   "source": [
    "result_df"
   ]
  },
  {
   "cell_type": "code",
   "execution_count": null,
   "id": "c6864d5d",
   "metadata": {},
   "outputs": [],
   "source": []
  }
 ],
 "metadata": {
  "kernelspec": {
   "display_name": "Python 3 (ipykernel)",
   "language": "python",
   "name": "python3"
  },
  "language_info": {
   "codemirror_mode": {
    "name": "ipython",
    "version": 3
   },
   "file_extension": ".py",
   "mimetype": "text/x-python",
   "name": "python",
   "nbconvert_exporter": "python",
   "pygments_lexer": "ipython3",
   "version": "3.9.7"
  }
 },
 "nbformat": 4,
 "nbformat_minor": 5
}
